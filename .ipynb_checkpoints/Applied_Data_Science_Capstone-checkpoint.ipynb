{
 "cells": [
  {
   "cell_type": "markdown",
   "id": "1222a320-6864-47c5-b211-f148d88011d8",
   "metadata": {},
   "source": [
    "# This is a jupyter notebook for Applied Data Science Capstone"
   ]
  },
  {
   "cell_type": "code",
   "execution_count": 1,
   "id": "fb70788c-01a4-4e07-97a4-e2bd57c3bab6",
   "metadata": {},
   "outputs": [],
   "source": [
    "import pandas as pd\n",
    "import numpy as np"
   ]
  },
  {
   "cell_type": "code",
   "execution_count": 2,
   "id": "0adbf40b-eb56-475e-9d33-f81887e2d931",
   "metadata": {},
   "outputs": [
    {
     "name": "stdout",
     "output_type": "stream",
     "text": [
      "Hello Capstone Project Course!\n"
     ]
    }
   ],
   "source": [
    "print('Hello Capstone Project Course!')"
   ]
  },
  {
   "cell_type": "code",
   "execution_count": null,
   "id": "aa9fbc11-7250-47dc-862c-8590d05361c0",
   "metadata": {},
   "outputs": [],
   "source": []
  }
 ],
 "metadata": {
  "kernelspec": {
   "display_name": "Python 3",
   "language": "python",
   "name": "python3"
  },
  "language_info": {
   "codemirror_mode": {
    "name": "ipython",
    "version": 3
   },
   "file_extension": ".py",
   "mimetype": "text/x-python",
   "name": "python",
   "nbconvert_exporter": "python",
   "pygments_lexer": "ipython3",
   "version": "3.9.5"
  }
 },
 "nbformat": 4,
 "nbformat_minor": 5
}
